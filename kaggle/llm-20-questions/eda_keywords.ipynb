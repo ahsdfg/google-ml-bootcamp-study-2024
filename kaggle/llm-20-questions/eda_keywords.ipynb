{
 "cells": [
  {
   "cell_type": "markdown",
   "metadata": {},
   "source": [
    "# LLM 20 Questions Keywords Analysis\n",
    "\n",
    "According to kaggle discussion, the keywords are consisted of 500 location (from keywords.py), 500 things (from keywords.py), and 1000 new things (the hidden set).\n",
    "https://www.kaggle.com/competitions/llm-20-questions/discussion/515102"
   ]
  },
  {
   "cell_type": "markdown",
   "metadata": {},
   "source": [
    "### Download the latest keywords.py from kaggle-environments"
   ]
  },
  {
   "cell_type": "code",
   "execution_count": 1,
   "metadata": {},
   "outputs": [
    {
     "name": "stderr",
     "output_type": "stream",
     "text": [
      "--2024-07-24 18:09:49--  https://raw.githubusercontent.com/Kaggle/kaggle-environments/master/kaggle_environments/envs/llm_20_questions/keywords.py\n",
      "Resolving raw.githubusercontent.com (raw.githubusercontent.com)... 185.199.111.133, 185.199.110.133, 185.199.108.133, ...\n",
      "Connecting to raw.githubusercontent.com (raw.githubusercontent.com)|185.199.111.133|:443... connected.\n",
      "HTTP request sent, awaiting response... 200 OK\n",
      "Length: 93552 (91K) [text/plain]\n",
      "Saving to: ‘keywords.py’\n",
      "\n",
      "     0K .......... .......... .......... .......... .......... 54%  293K 0s\n",
      "    50K .......... .......... .......... .......... .         100% 1.26M=0.2s\n",
      "\n",
      "2024-07-24 18:09:50 (451 KB/s) - ‘keywords.py’ saved [93552/93552]\n",
      "\n"
     ]
    }
   ],
   "source": [
    "%%bash\n",
    "\n",
    "wget -O keywords.py https://raw.githubusercontent.com/Kaggle/kaggle-environments/master/kaggle_environments/envs/llm_20_questions/keywords.py"
   ]
  },
  {
   "cell_type": "code",
   "execution_count": 2,
   "metadata": {},
   "outputs": [],
   "source": [
    "import json\n",
    "import pandas as pd\n",
    "import numpy as np\n",
    "from matplotlib import pyplot as plt"
   ]
  },
  {
   "cell_type": "markdown",
   "metadata": {},
   "source": [
    "### Load keywords.py in dataframes"
   ]
  },
  {
   "cell_type": "code",
   "execution_count": 3,
   "metadata": {},
   "outputs": [],
   "source": [
    "\n",
    "from keywords import KEYWORDS_JSON\n",
    "\n",
    "def create_keyword_df(KEYWORDS_JSON):\n",
    "    json_data = json.loads(KEYWORDS_JSON)\n",
    "\n",
    "    keyword_list = []\n",
    "    category_list = []\n",
    "    alts_list = []\n",
    "\n",
    "    for i in range(len(json_data)):\n",
    "        for j in range(len(json_data[i]['words'])):\n",
    "            keyword = json_data[i]['words'][j]['keyword']\n",
    "            keyword_list.append(keyword)\n",
    "            category_list.append(json_data[i]['category'])\n",
    "            alts_list.append(json_data[i]['words'][j]['alts'])\n",
    "\n",
    "    data_pd = pd.DataFrame(columns=['keyword', 'category', 'alts'])\n",
    "    data_pd['keyword'] = keyword_list\n",
    "    data_pd['category'] = category_list\n",
    "    data_pd['alts'] = alts_list\n",
    "    \n",
    "    return data_pd\n"
   ]
  },
  {
   "cell_type": "markdown",
   "metadata": {},
   "source": [
    "As described in the discussion, the keywords are consisted of 500 location (from keywords.py), 500 things (from keywords.py)"
   ]
  },
  {
   "cell_type": "code",
   "execution_count": 4,
   "metadata": {},
   "outputs": [
    {
     "data": {
      "text/plain": [
       "category\n",
       "things    579\n",
       "place     563\n",
       "Name: count, dtype: int64"
      ]
     },
     "execution_count": 4,
     "metadata": {},
     "output_type": "execute_result"
    }
   ],
   "source": [
    "keyword_df = create_keyword_df(KEYWORDS_JSON)\n",
    "keyword_df = keyword_df.dropna()\n",
    "keyword_df.value_counts('category')"
   ]
  },
  {
   "cell_type": "markdown",
   "metadata": {},
   "source": [
    "### Place"
   ]
  },
  {
   "cell_type": "code",
   "execution_count": 5,
   "metadata": {},
   "outputs": [
    {
     "data": {
      "text/html": [
       "<div>\n",
       "<style scoped>\n",
       "    .dataframe tbody tr th:only-of-type {\n",
       "        vertical-align: middle;\n",
       "    }\n",
       "\n",
       "    .dataframe tbody tr th {\n",
       "        vertical-align: top;\n",
       "    }\n",
       "\n",
       "    .dataframe thead th {\n",
       "        text-align: right;\n",
       "    }\n",
       "</style>\n",
       "<table border=\"1\" class=\"dataframe\">\n",
       "  <thead>\n",
       "    <tr style=\"text-align: right;\">\n",
       "      <th></th>\n",
       "      <th>keyword</th>\n",
       "      <th>category</th>\n",
       "      <th>alts</th>\n",
       "    </tr>\n",
       "  </thead>\n",
       "  <tbody>\n",
       "    <tr>\n",
       "      <th>579</th>\n",
       "      <td>afghanistan</td>\n",
       "      <td>place</td>\n",
       "      <td>[]</td>\n",
       "    </tr>\n",
       "    <tr>\n",
       "      <th>580</th>\n",
       "      <td>albania</td>\n",
       "      <td>place</td>\n",
       "      <td>[]</td>\n",
       "    </tr>\n",
       "    <tr>\n",
       "      <th>581</th>\n",
       "      <td>algeria</td>\n",
       "      <td>place</td>\n",
       "      <td>[]</td>\n",
       "    </tr>\n",
       "    <tr>\n",
       "      <th>582</th>\n",
       "      <td>andorra</td>\n",
       "      <td>place</td>\n",
       "      <td>[]</td>\n",
       "    </tr>\n",
       "    <tr>\n",
       "      <th>583</th>\n",
       "      <td>angola</td>\n",
       "      <td>place</td>\n",
       "      <td>[]</td>\n",
       "    </tr>\n",
       "    <tr>\n",
       "      <th>...</th>\n",
       "      <td>...</td>\n",
       "      <td>...</td>\n",
       "      <td>...</td>\n",
       "    </tr>\n",
       "    <tr>\n",
       "      <th>1137</th>\n",
       "      <td>rhine</td>\n",
       "      <td>place</td>\n",
       "      <td>[]</td>\n",
       "    </tr>\n",
       "    <tr>\n",
       "      <th>1138</th>\n",
       "      <td>yangtze river</td>\n",
       "      <td>place</td>\n",
       "      <td>[changjiang, yangtze]</td>\n",
       "    </tr>\n",
       "    <tr>\n",
       "      <th>1139</th>\n",
       "      <td>yellow river</td>\n",
       "      <td>place</td>\n",
       "      <td>[huang he]</td>\n",
       "    </tr>\n",
       "    <tr>\n",
       "      <th>1140</th>\n",
       "      <td>zambezi river</td>\n",
       "      <td>place</td>\n",
       "      <td>[zambezi]</td>\n",
       "    </tr>\n",
       "    <tr>\n",
       "      <th>1141</th>\n",
       "      <td>yenisei river</td>\n",
       "      <td>place</td>\n",
       "      <td>[yenisei]</td>\n",
       "    </tr>\n",
       "  </tbody>\n",
       "</table>\n",
       "<p>563 rows × 3 columns</p>\n",
       "</div>"
      ],
      "text/plain": [
       "            keyword category                   alts\n",
       "579     afghanistan    place                     []\n",
       "580         albania    place                     []\n",
       "581         algeria    place                     []\n",
       "582         andorra    place                     []\n",
       "583          angola    place                     []\n",
       "...             ...      ...                    ...\n",
       "1137          rhine    place                     []\n",
       "1138  yangtze river    place  [changjiang, yangtze]\n",
       "1139   yellow river    place             [huang he]\n",
       "1140  zambezi river    place              [zambezi]\n",
       "1141  yenisei river    place              [yenisei]\n",
       "\n",
       "[563 rows x 3 columns]"
      ]
     },
     "execution_count": 5,
     "metadata": {},
     "output_type": "execute_result"
    }
   ],
   "source": [
    "place_df = keyword_df[keyword_df['category'] == 'place']\n",
    "place_df"
   ]
  },
  {
   "cell_type": "code",
   "execution_count": 6,
   "metadata": {},
   "outputs": [
    {
     "name": "stderr",
     "output_type": "stream",
     "text": [
      "/var/folders/h0/74vp_7dd0wbcv7q2f9w9l8qc0000gn/T/ipykernel_64084/4139466056.py:2: SettingWithCopyWarning: \n",
      "A value is trying to be set on a copy of a slice from a DataFrame.\n",
      "Try using .loc[row_indexer,col_indexer] = value instead\n",
      "\n",
      "See the caveats in the documentation: https://pandas.pydata.org/pandas-docs/stable/user_guide/indexing.html#returning-a-view-versus-a-copy\n",
      "  place_df['keyword_len'] = place_df['keyword'].apply(len)\n"
     ]
    },
    {
     "data": {
      "image/png": "[encoded data removed]",
      "text/plain": [
       "<Figure size 640x480 with 1 Axes>"
      ]
     },
     "metadata": {},
     "output_type": "display_data"
    }
   ],
   "source": [
    "# bin the length of the keyword and plot\n",
    "place_df['keyword_len'] = place_df['keyword'].apply(len)\n",
    "\n",
    "plt.hist(place_df['keyword_len'], bins=range(1, 40))\n",
    "plt.xlabel('Length of keyword')\n",
    "plt.ylabel('Frequency')\n",
    "plt.title('Distribution of keyword length')\n",
    "plt.show()"
   ]
  },
  {
   "cell_type": "code",
   "execution_count": 7,
   "metadata": {},
   "outputs": [
    {
     "name": "stderr",
     "output_type": "stream",
     "text": [
      "/var/folders/h0/74vp_7dd0wbcv7q2f9w9l8qc0000gn/T/ipykernel_64084/839350730.py:1: SettingWithCopyWarning: \n",
      "A value is trying to be set on a copy of a slice from a DataFrame.\n",
      "Try using .loc[row_indexer,col_indexer] = value instead\n",
      "\n",
      "See the caveats in the documentation: https://pandas.pydata.org/pandas-docs/stable/user_guide/indexing.html#returning-a-view-versus-a-copy\n",
      "  place_df['first_letter'] = place_df['keyword'].apply(lambda x: x[0].upper())\n"
     ]
    },
    {
     "data": {
      "image/png": "[encoded data removed]",
      "text/plain": [
       "<Figure size 640x480 with 1 Axes>"
      ]
     },
     "metadata": {},
     "output_type": "display_data"
    }
   ],
   "source": [
    "place_df['first_letter'] = place_df['keyword'].apply(lambda x: x[0].upper())\n",
    "\n",
    "place_letter_counts = place_df['first_letter'].value_counts()\n",
    "\n",
    "# Plotting the distribution of first letters as a bar chart\n",
    "place_letter_counts.sort_index().plot(kind='bar')\n",
    "plt.xlabel('First Letter of Keyword')\n",
    "plt.ylabel('Frequency')\n",
    "plt.title('Distribution of First Letter of Keyword')\n",
    "plt.show()"
   ]
  },
  {
   "cell_type": "markdown",
   "metadata": {},
   "source": [
    "### Things"
   ]
  },
  {
   "cell_type": "code",
   "execution_count": 8,
   "metadata": {},
   "outputs": [
    {
     "data": {
      "text/html": [
       "<div>\n",
       "<style scoped>\n",
       "    .dataframe tbody tr th:only-of-type {\n",
       "        vertical-align: middle;\n",
       "    }\n",
       "\n",
       "    .dataframe tbody tr th {\n",
       "        vertical-align: top;\n",
       "    }\n",
       "\n",
       "    .dataframe thead th {\n",
       "        text-align: right;\n",
       "    }\n",
       "</style>\n",
       "<table border=\"1\" class=\"dataframe\">\n",
       "  <thead>\n",
       "    <tr style=\"text-align: right;\">\n",
       "      <th></th>\n",
       "      <th>keyword</th>\n",
       "      <th>category</th>\n",
       "      <th>alts</th>\n",
       "    </tr>\n",
       "  </thead>\n",
       "  <tbody>\n",
       "    <tr>\n",
       "      <th>0</th>\n",
       "      <td>Advertisement</td>\n",
       "      <td>things</td>\n",
       "      <td>[]</td>\n",
       "    </tr>\n",
       "    <tr>\n",
       "      <th>1</th>\n",
       "      <td>Agave</td>\n",
       "      <td>things</td>\n",
       "      <td>[]</td>\n",
       "    </tr>\n",
       "    <tr>\n",
       "      <th>2</th>\n",
       "      <td>Air compressor</td>\n",
       "      <td>things</td>\n",
       "      <td>[]</td>\n",
       "    </tr>\n",
       "    <tr>\n",
       "      <th>3</th>\n",
       "      <td>Air Conditioner</td>\n",
       "      <td>things</td>\n",
       "      <td>[Air Conditioning]</td>\n",
       "    </tr>\n",
       "    <tr>\n",
       "      <th>4</th>\n",
       "      <td>Air filter</td>\n",
       "      <td>things</td>\n",
       "      <td>[]</td>\n",
       "    </tr>\n",
       "    <tr>\n",
       "      <th>...</th>\n",
       "      <td>...</td>\n",
       "      <td>...</td>\n",
       "      <td>...</td>\n",
       "    </tr>\n",
       "    <tr>\n",
       "      <th>574</th>\n",
       "      <td>Wristband</td>\n",
       "      <td>things</td>\n",
       "      <td>[]</td>\n",
       "    </tr>\n",
       "    <tr>\n",
       "      <th>575</th>\n",
       "      <td>Yoga Block</td>\n",
       "      <td>things</td>\n",
       "      <td>[]</td>\n",
       "    </tr>\n",
       "    <tr>\n",
       "      <th>576</th>\n",
       "      <td>Yoga mat</td>\n",
       "      <td>things</td>\n",
       "      <td>[]</td>\n",
       "    </tr>\n",
       "    <tr>\n",
       "      <th>577</th>\n",
       "      <td>Yogurt</td>\n",
       "      <td>things</td>\n",
       "      <td>[]</td>\n",
       "    </tr>\n",
       "    <tr>\n",
       "      <th>578</th>\n",
       "      <td>Zinc</td>\n",
       "      <td>things</td>\n",
       "      <td>[]</td>\n",
       "    </tr>\n",
       "  </tbody>\n",
       "</table>\n",
       "<p>579 rows × 3 columns</p>\n",
       "</div>"
      ],
      "text/plain": [
       "             keyword category                alts\n",
       "0      Advertisement   things                  []\n",
       "1              Agave   things                  []\n",
       "2     Air compressor   things                  []\n",
       "3    Air Conditioner   things  [Air Conditioning]\n",
       "4         Air filter   things                  []\n",
       "..               ...      ...                 ...\n",
       "574        Wristband   things                  []\n",
       "575       Yoga Block   things                  []\n",
       "576         Yoga mat   things                  []\n",
       "577           Yogurt   things                  []\n",
       "578             Zinc   things                  []\n",
       "\n",
       "[579 rows x 3 columns]"
      ]
     },
     "execution_count": 8,
     "metadata": {},
     "output_type": "execute_result"
    }
   ],
   "source": [
    "things_df = keyword_df[keyword_df['category'] == 'things']\n",
    "things_df"
   ]
  },
  {
   "cell_type": "code",
   "execution_count": 9,
   "metadata": {},
   "outputs": [
    {
     "name": "stderr",
     "output_type": "stream",
     "text": [
      "/var/folders/h0/74vp_7dd0wbcv7q2f9w9l8qc0000gn/T/ipykernel_64084/1168256080.py:1: SettingWithCopyWarning: \n",
      "A value is trying to be set on a copy of a slice from a DataFrame.\n",
      "Try using .loc[row_indexer,col_indexer] = value instead\n",
      "\n",
      "See the caveats in the documentation: https://pandas.pydata.org/pandas-docs/stable/user_guide/indexing.html#returning-a-view-versus-a-copy\n",
      "  place_df['first_letter'] = things_df['keyword'].apply(lambda x: x[0].upper())\n",
      "/var/folders/h0/74vp_7dd0wbcv7q2f9w9l8qc0000gn/T/ipykernel_64084/1168256080.py:4: SettingWithCopyWarning: \n",
      "A value is trying to be set on a copy of a slice from a DataFrame.\n",
      "Try using .loc[row_indexer,col_indexer] = value instead\n",
      "\n",
      "See the caveats in the documentation: https://pandas.pydata.org/pandas-docs/stable/user_guide/indexing.html#returning-a-view-versus-a-copy\n",
      "  things_df['keyword_len'] = things_df['keyword'].apply(len)\n"
     ]
    },
    {
     "data": {
      "image/png": "[encoded data removed]",
      "text/plain": [
       "<Figure size 640x480 with 1 Axes>"
      ]
     },
     "metadata": {},
     "output_type": "display_data"
    }
   ],
   "source": [
    "place_df['first_letter'] = things_df['keyword'].apply(lambda x: x[0].upper())\n",
    "\n",
    "# bin the length of the keyword and plot\n",
    "things_df['keyword_len'] = things_df['keyword'].apply(len)\n",
    "\n",
    "plt.hist(things_df['keyword_len'], bins=range(1, 40))\n",
    "plt.xlabel('Length of keyword')\n",
    "plt.ylabel('Frequency')\n",
    "plt.title('Distribution of keyword length')\n",
    "plt.show()"
   ]
  },
  {
   "cell_type": "code",
   "execution_count": 10,
   "metadata": {},
   "outputs": [
    {
     "name": "stderr",
     "output_type": "stream",
     "text": [
      "/var/folders/h0/74vp_7dd0wbcv7q2f9w9l8qc0000gn/T/ipykernel_64084/2592858037.py:1: SettingWithCopyWarning: \n",
      "A value is trying to be set on a copy of a slice from a DataFrame.\n",
      "Try using .loc[row_indexer,col_indexer] = value instead\n",
      "\n",
      "See the caveats in the documentation: https://pandas.pydata.org/pandas-docs/stable/user_guide/indexing.html#returning-a-view-versus-a-copy\n",
      "  things_df['first_letter'] = things_df['keyword'].apply(lambda x: x[0].upper())\n"
     ]
    },
    {
     "data": {
      "image/png": "[encoded data removed]",
      "text/plain": [
       "<Figure size 640x480 with 1 Axes>"
      ]
     },
     "metadata": {},
     "output_type": "display_data"
    }
   ],
   "source": [
    "things_df['first_letter'] = things_df['keyword'].apply(lambda x: x[0].upper())\n",
    "\n",
    "things_letter_counts = things_df['first_letter'].value_counts()\n",
    "\n",
    "# Plotting the distribution of first letters as a bar chart\n",
    "things_letter_counts.sort_index().plot(kind='bar')\n",
    "plt.xlabel('First Letter of Keyword')\n",
    "plt.ylabel('Frequency')\n",
    "plt.title('Distribution of First Letter of Keyword')\n",
    "plt.show()"
   ]
  },
  {
   "cell_type": "code",
   "execution_count": null,
   "metadata": {},
   "outputs": [],
   "source": []
  }
 ],
 "metadata": {
  "kernelspec": {
   "display_name": "llama",
   "language": "python",
   "name": "llama"
  },
  "language_info": {
   "codemirror_mode": {
    "name": "ipython",
    "version": 3
   },
   "file_extension": ".py",
   "mimetype": "text/x-python",
   "name": "python",
   "nbconvert_exporter": "python",
   "pygments_lexer": "ipython3",
   "version": "3.9.16"
  }
 },
 "nbformat": 4,
 "nbformat_minor": 2
}
